{
  "nbformat": 4,
  "nbformat_minor": 0,
  "metadata": {
    "colab": {
      "name": "tomato_image_crawler.ipynb",
      "version": "0.3.2",
      "provenance": []
    },
    "kernelspec": {
      "name": "python3",
      "display_name": "Python 3"
    }
  },
  "cells": [
    {
      "cell_type": "markdown",
      "metadata": {
        "id": "HEqcIex-aqNc",
        "colab_type": "text"
      },
      "source": [
        "# Crawling for Images\n",
        "Use a search engine to crawl for images and build the dataset. The dataset consists of four classes: ripe tomatoes, rotten, raw and not tomatoes"
      ]
    },
    {
      "cell_type": "markdown",
      "metadata": {
        "id": "Ct-UJfBYbA3F",
        "colab_type": "text"
      },
      "source": [
        "## Storage setup (GDrive)\n",
        "The datasets will be stored in Google Drive"
      ]
    },
    {
      "cell_type": "code",
      "metadata": {
        "id": "dwK26773lfcw",
        "colab_type": "code",
        "outputId": "15c72edb-917a-4a3d-e8d2-9c2b2a18231b",
        "colab": {
          "base_uri": "https://localhost:8080/",
          "height": 122
        }
      },
      "source": [
        "import os\n",
        "\n",
        "# Load the Drive helper and mount\n",
        "from google.colab import drive\n",
        "\n",
        "# This will prompt for authorization.\n",
        "drive.mount('/content/gdrive')"
      ],
      "execution_count": 1,
      "outputs": [
        {
          "output_type": "stream",
          "text": [
            "Go to this URL in a browser: https://accounts.google.com/o/oauth2/auth?client_id=947318989803-6bn6qk8qdgf4n4g3pfee6491hc0brc4i.apps.googleusercontent.com&redirect_uri=urn%3Aietf%3Awg%3Aoauth%3A2.0%3Aoob&scope=email%20https%3A%2F%2Fwww.googleapis.com%2Fauth%2Fdocs.test%20https%3A%2F%2Fwww.googleapis.com%2Fauth%2Fdrive%20https%3A%2F%2Fwww.googleapis.com%2Fauth%2Fdrive.photos.readonly%20https%3A%2F%2Fwww.googleapis.com%2Fauth%2Fpeopleapi.readonly&response_type=code\n",
            "\n",
            "Enter your authorization code:\n",
            "··········\n",
            "Mounted at /content/gdrive\n"
          ],
          "name": "stdout"
        }
      ]
    },
    {
      "cell_type": "code",
      "metadata": {
        "id": "znf0TnFHlkJG",
        "colab_type": "code",
        "outputId": "47ecdca1-fc22-4a87-8294-16c5e5ceed55",
        "colab": {
          "base_uri": "https://localhost:8080/",
          "height": 275
        }
      },
      "source": [
        "!pip install icrawler\n",
        "from icrawler.builtin import GoogleImageCrawler"
      ],
      "execution_count": 2,
      "outputs": [
        {
          "output_type": "stream",
          "text": [
            "Collecting icrawler\n",
            "  Downloading https://files.pythonhosted.org/packages/78/a2/1ac26a2c39b87bef4ef8cb39cb4f33e04041f4a9f04f8cc3dfa1251e0304/icrawler-0.6.2-py2.py3-none-any.whl\n",
            "Requirement already satisfied: lxml in /usr/local/lib/python3.6/dist-packages (from icrawler) (4.2.6)\n",
            "Requirement already satisfied: requests>=2.9.1 in /usr/local/lib/python3.6/dist-packages (from icrawler) (2.21.0)\n",
            "Requirement already satisfied: beautifulsoup4>=4.4.1 in /usr/local/lib/python3.6/dist-packages (from icrawler) (4.6.3)\n",
            "Requirement already satisfied: Pillow in /usr/local/lib/python3.6/dist-packages (from icrawler) (4.3.0)\n",
            "Requirement already satisfied: six>=1.10.0 in /usr/local/lib/python3.6/dist-packages (from icrawler) (1.12.0)\n",
            "Requirement already satisfied: certifi>=2017.4.17 in /usr/local/lib/python3.6/dist-packages (from requests>=2.9.1->icrawler) (2019.6.16)\n",
            "Requirement already satisfied: idna<2.9,>=2.5 in /usr/local/lib/python3.6/dist-packages (from requests>=2.9.1->icrawler) (2.8)\n",
            "Requirement already satisfied: urllib3<1.25,>=1.21.1 in /usr/local/lib/python3.6/dist-packages (from requests>=2.9.1->icrawler) (1.24.3)\n",
            "Requirement already satisfied: chardet<3.1.0,>=3.0.2 in /usr/local/lib/python3.6/dist-packages (from requests>=2.9.1->icrawler) (3.0.4)\n",
            "Requirement already satisfied: olefile in /usr/local/lib/python3.6/dist-packages (from Pillow->icrawler) (0.46)\n",
            "Installing collected packages: icrawler\n",
            "Successfully installed icrawler-0.6.2\n"
          ],
          "name": "stdout"
        }
      ]
    },
    {
      "cell_type": "code",
      "metadata": {
        "id": "TqDns75IlnKg",
        "colab_type": "code",
        "outputId": "9708a60d-bcda-41fb-909a-85326e840a08",
        "colab": {
          "base_uri": "https://localhost:8080/",
          "height": 34
        }
      },
      "source": [
        "os.getcwd()"
      ],
      "execution_count": 3,
      "outputs": [
        {
          "output_type": "execute_result",
          "data": {
            "text/plain": [
              "'/content'"
            ]
          },
          "metadata": {
            "tags": []
          },
          "execution_count": 3
        }
      ]
    },
    {
      "cell_type": "markdown",
      "metadata": {
        "id": "bPi7KKsJbNv2",
        "colab_type": "text"
      },
      "source": [
        "## Crawling for the images"
      ]
    },
    {
      "cell_type": "markdown",
      "metadata": {
        "id": "QOT6ADineIRD",
        "colab_type": "text"
      },
      "source": [
        "### Ripe Tomatoes"
      ]
    },
    {
      "cell_type": "code",
      "metadata": {
        "id": "Bw1bMgyemFyH",
        "colab_type": "code",
        "colab": {}
      },
      "source": [
        "dir_path = 'gdrive/My\\ Drive/datasets/tomato_ripe'\n",
        "if (not os.path.exists(dir_path)):\n",
        "    !mkdir -p {dir_path}"
      ],
      "execution_count": 0,
      "outputs": []
    },
    {
      "cell_type": "code",
      "metadata": {
        "id": "K6qWDkIxnmad",
        "colab_type": "code",
        "colab": {}
      },
      "source": [
        "google_crawler = GoogleImageCrawler(storage={'root_dir': dir_path})\n",
        "filters = dict(type='photo', color='color')\n",
        "google_crawler.crawl(keyword='ripe tomato', filters=filters, max_num=200, min_size=(200,200))"
      ],
      "execution_count": 0,
      "outputs": []
    },
    {
      "cell_type": "markdown",
      "metadata": {
        "id": "jbR3989EeMf8",
        "colab_type": "text"
      },
      "source": [
        "### Rotten Tomatoes"
      ]
    },
    {
      "cell_type": "code",
      "metadata": {
        "id": "ma8Ip8v3YwS8",
        "colab_type": "code",
        "colab": {}
      },
      "source": [
        "dir_path = 'gdrive/My Drive/datasets/tomato_rotten'\n",
        "if (not os.path.exists(dir_path)):\n",
        "    !mkdir -p {dir_path}"
      ],
      "execution_count": 0,
      "outputs": []
    },
    {
      "cell_type": "code",
      "metadata": {
        "id": "uv8Bm6exXFJR",
        "colab_type": "code",
        "colab": {}
      },
      "source": [
        "google_crawler = GoogleImageCrawler(storage={'root_dir': dir_path})\n",
        "filters = dict(type='photo', color='color')\n",
        "google_crawler.crawl(keyword='rotten tomato', filters=filters, max_num=200, min_size=(200,200))"
      ],
      "execution_count": 0,
      "outputs": []
    },
    {
      "cell_type": "markdown",
      "metadata": {
        "id": "3FXjWOSVePu-",
        "colab_type": "text"
      },
      "source": [
        "### Unripe tomatoes\n",
        "(raw doesn't work - its not the opposite of ripe)"
      ]
    },
    {
      "cell_type": "code",
      "metadata": {
        "id": "goUijgNmcA57",
        "colab_type": "code",
        "colab": {}
      },
      "source": [
        "dir_path = 'gdrive/My Drive/datasets/tomato_unripe'\n",
        "if (not os.path.exists(dir_path)):\n",
        "    !mkdir -p {dir_path}"
      ],
      "execution_count": 0,
      "outputs": []
    },
    {
      "cell_type": "code",
      "metadata": {
        "id": "cgvN2013cvnz",
        "colab_type": "code",
        "colab": {}
      },
      "source": [
        "google_crawler = GoogleImageCrawler(storage={'root_dir': dir_path})\n",
        "filters = dict(type='photo', color='color')\n",
        "google_crawler.crawl(keyword='unripe tomatoes', filters=filters, max_num=200, min_size=(200,200))"
      ],
      "execution_count": 0,
      "outputs": []
    },
    {
      "cell_type": "markdown",
      "metadata": {
        "id": "MDZPO_CVfvUU",
        "colab_type": "text"
      },
      "source": [
        "### Not tomatoes\n",
        "This is a catch all category - by definition hard to define. Including here: apples, red potatoes, onions, green jaamun, red berries, olives, peaches"
      ]
    },
    {
      "cell_type": "code",
      "metadata": {
        "id": "2Vs_vtE1eroh",
        "colab_type": "code",
        "colab": {}
      },
      "source": [
        "dir_path = 'gdrive/My Drive/datasets/not_tomato'\n",
        "if (not os.path.exists(dir_path)):\n",
        "    !mkdir -p {dir_path}"
      ],
      "execution_count": 0,
      "outputs": []
    },
    {
      "cell_type": "code",
      "metadata": {
        "id": "N1xG_XfMk9bG",
        "colab_type": "code",
        "colab": {}
      },
      "source": [
        "from icrawler import ImageDownloader\n",
        "\n",
        "class MyImageDownloader(ImageDownloader):\n",
        "\n",
        "#     def __init__(self, *args, **kwargs):\n",
        "#         super(MyImageDownloader).__init__(*args, **kwargs)\n",
        "#         self.filename_prefix = ''\n",
        "\n",
        "    def get_filename(self, task, default_ext):\n",
        "        return self.filename_prefix + super(ImageDownloader, self).get_filename(task, default_ext)"
      ],
      "execution_count": 0,
      "outputs": []
    },
    {
      "cell_type": "code",
      "metadata": {
        "id": "Hs1UAiingE5u",
        "colab_type": "code",
        "colab": {}
      },
      "source": [
        "google_crawler = GoogleImageCrawler(downloader_cls=MyImageDownloader, storage={'root_dir': dir_path})\n",
        "filters = dict(type='photo', color='color')\n",
        "google_crawler.downloader.filename_prefix = 'red_apple'\n",
        "google_crawler.crawl(keyword='red apples', filters=filters, max_num=20, min_size=(200,200))\n",
        "\n",
        "google_crawler.downloader.filename_prefix = 'green_apple'\n",
        "google_crawler.crawl(keyword='green apples', filters=filters, max_num=20, min_size=(200,200))\n",
        "\n",
        "google_crawler.downloader.filename_prefix = 'red_potato'\n",
        "google_crawler.crawl(keyword='red potatoes', filters=filters, max_num=20, min_size=(200,200))\n",
        "\n",
        "google_crawler.downloader.filename_prefix = 'onion'\n",
        "google_crawler.crawl(keyword='onions', filters=filters, max_num=20, min_size=(200,200))\n",
        "\n",
        "google_crawler.downloader.filename_prefix = 'red_berries'\n",
        "google_crawler.crawl(keyword='red berries', filters=filters, max_num=20, min_size=(200,200))\n",
        "\n",
        "google_crawler.downloader.filename_prefix = 'jamun_green'\n",
        "google_crawler.crawl(keyword='jamun green', filters=filters, max_num=20, min_size=(200,200))\n",
        "\n",
        "google_crawler.downloader.filename_prefix = 'peaches'\n",
        "google_crawler.crawl(keyword='peaches', filters=filters, max_num=20, min_size=(200,200))\n",
        "\n",
        "google_crawler.downloader.filename_prefix = 'olives'\n",
        "google_crawler.crawl(keyword='olives', filters=filters, max_num=20, min_size=(200,200))\n",
        "\n",
        "google_crawler.downloader.filename_prefix = 'red_plants'\n",
        "google_crawler.crawl(keyword='red plants', filters=filters, max_num=20, min_size=(200,200))\n",
        "\n",
        "google_crawler.downloader.filename_prefix = 'green_plants'\n",
        "google_crawler.crawl(keyword='green plants', filters=filters, max_num=20, min_size=(200,200))\n",
        "\n",
        "google_crawler.downloader.filename_prefix = 'red_flowers'\n",
        "google_crawler.crawl(keyword='red flowers', filters=filters, max_num=20, min_size=(200,200))"
      ],
      "execution_count": 0,
      "outputs": []
    },
    {
      "cell_type": "code",
      "metadata": {
        "id": "Ia3g43Y2hDDw",
        "colab_type": "code",
        "colab": {}
      },
      "source": [
        ""
      ],
      "execution_count": 0,
      "outputs": []
    }
  ]
}