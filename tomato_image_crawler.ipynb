{
  "nbformat": 4,
  "nbformat_minor": 0,
  "metadata": {
    "colab": {
      "name": "tomato_image_crawler.ipynb",
      "version": "0.3.2",
      "provenance": [],
      "toc_visible": true
    },
    "kernelspec": {
      "name": "python3",
      "display_name": "Python 3"
    },
    "accelerator": "GPU"
  },
  "cells": [
    {
      "cell_type": "markdown",
      "metadata": {
        "id": "HEqcIex-aqNc",
        "colab_type": "text"
      },
      "source": [
        "# Crawling for Images\n",
        "Use a search engine to crawl for images and build the dataset. The dataset consists of four classes: ripe tomatoes, rotten, raw and not tomatoes"
      ]
    },
    {
      "cell_type": "code",
      "metadata": {
        "id": "ueYqFnEG_EnU",
        "colab_type": "code",
        "colab": {}
      },
      "source": [
        "%reload_ext autoreload\n",
        "%autoreload 2\n",
        "%matplotlib inline"
      ],
      "execution_count": 0,
      "outputs": []
    },
    {
      "cell_type": "code",
      "metadata": {
        "id": "8ExokPEa_MSS",
        "colab_type": "code",
        "colab": {}
      },
      "source": [
        "import numpy as np"
      ],
      "execution_count": 0,
      "outputs": []
    },
    {
      "cell_type": "markdown",
      "metadata": {
        "id": "Ct-UJfBYbA3F",
        "colab_type": "text"
      },
      "source": [
        "## Storage setup (GDrive)\n",
        "The datasets will be stored in Google Drive"
      ]
    },
    {
      "cell_type": "code",
      "metadata": {
        "id": "dwK26773lfcw",
        "colab_type": "code",
        "outputId": "2b03bc10-2b80-492e-ec4e-aaf7adb07154",
        "colab": {
          "base_uri": "https://localhost:8080/",
          "height": 54
        }
      },
      "source": [
        "import os\n",
        "\n",
        "# Load the Drive helper and mount\n",
        "from google.colab import drive\n",
        "\n",
        "# This will prompt for authorization.\n",
        "drive.mount('/content/gdrive')"
      ],
      "execution_count": 3,
      "outputs": [
        {
          "output_type": "stream",
          "text": [
            "Drive already mounted at /content/gdrive; to attempt to forcibly remount, call drive.mount(\"/content/gdrive\", force_remount=True).\n"
          ],
          "name": "stdout"
        }
      ]
    },
    {
      "cell_type": "code",
      "metadata": {
        "id": "znf0TnFHlkJG",
        "colab_type": "code",
        "outputId": "98f16fb5-46ce-4725-f6df-2d69d2a1857a",
        "colab": {
          "base_uri": "https://localhost:8080/",
          "height": 224
        }
      },
      "source": [
        "!pip install icrawler\n",
        "from icrawler.builtin import GoogleImageCrawler, BingImageCrawler"
      ],
      "execution_count": 4,
      "outputs": [
        {
          "output_type": "stream",
          "text": [
            "Requirement already satisfied: icrawler in /usr/local/lib/python3.6/dist-packages (0.6.2)\n",
            "Requirement already satisfied: six>=1.10.0 in /usr/local/lib/python3.6/dist-packages (from icrawler) (1.12.0)\n",
            "Requirement already satisfied: requests>=2.9.1 in /usr/local/lib/python3.6/dist-packages (from icrawler) (2.21.0)\n",
            "Requirement already satisfied: beautifulsoup4>=4.4.1 in /usr/local/lib/python3.6/dist-packages (from icrawler) (4.6.3)\n",
            "Requirement already satisfied: lxml in /usr/local/lib/python3.6/dist-packages (from icrawler) (4.2.6)\n",
            "Requirement already satisfied: Pillow in /usr/local/lib/python3.6/dist-packages (from icrawler) (4.3.0)\n",
            "Requirement already satisfied: urllib3<1.25,>=1.21.1 in /usr/local/lib/python3.6/dist-packages (from requests>=2.9.1->icrawler) (1.24.3)\n",
            "Requirement already satisfied: certifi>=2017.4.17 in /usr/local/lib/python3.6/dist-packages (from requests>=2.9.1->icrawler) (2019.6.16)\n",
            "Requirement already satisfied: chardet<3.1.0,>=3.0.2 in /usr/local/lib/python3.6/dist-packages (from requests>=2.9.1->icrawler) (3.0.4)\n",
            "Requirement already satisfied: idna<2.9,>=2.5 in /usr/local/lib/python3.6/dist-packages (from requests>=2.9.1->icrawler) (2.8)\n",
            "Requirement already satisfied: olefile in /usr/local/lib/python3.6/dist-packages (from Pillow->icrawler) (0.46)\n"
          ],
          "name": "stdout"
        }
      ]
    },
    {
      "cell_type": "code",
      "metadata": {
        "id": "TqDns75IlnKg",
        "colab_type": "code",
        "outputId": "fbfc3914-64a2-4237-ea64-afb89a50eb4a",
        "colab": {
          "base_uri": "https://localhost:8080/",
          "height": 34
        }
      },
      "source": [
        "os.getcwd()"
      ],
      "execution_count": 5,
      "outputs": [
        {
          "output_type": "execute_result",
          "data": {
            "text/plain": [
              "'/content'"
            ]
          },
          "metadata": {
            "tags": []
          },
          "execution_count": 5
        }
      ]
    },
    {
      "cell_type": "markdown",
      "metadata": {
        "id": "bPi7KKsJbNv2",
        "colab_type": "text"
      },
      "source": [
        "## Crawling for the images"
      ]
    },
    {
      "cell_type": "code",
      "metadata": {
        "id": "ZWZ-Kv-jnlT2",
        "colab_type": "code",
        "colab": {}
      },
      "source": [
        "# Define my own class and method, to add a prefix to the files\n",
        "from icrawler import ImageDownloader\n",
        "\n",
        "class MyImageDownloader(ImageDownloader):\n",
        "\n",
        "#     def __init__(self, *args, **kwargs):\n",
        "#         super(MyImageDownloader).__init__(*args, **kwargs)\n",
        "#         self.filename_prefix = ''\n",
        "\n",
        "    def get_filename(self, task, default_ext):\n",
        "        return self.filename_prefix + super(ImageDownloader, self).get_filename(task, default_ext)"
      ],
      "execution_count": 0,
      "outputs": []
    },
    {
      "cell_type": "markdown",
      "metadata": {
        "id": "QOT6ADineIRD",
        "colab_type": "text"
      },
      "source": [
        "### Ripe Tomatoes"
      ]
    },
    {
      "cell_type": "code",
      "metadata": {
        "id": "Bw1bMgyemFyH",
        "colab_type": "code",
        "colab": {}
      },
      "source": [
        "from pathlib import Path\n",
        "import collections\n",
        "\n",
        "# Setup the path where the images are going to be stored\n",
        "dir_path = Path('gdrive/My Drive/datasets/tomato_classification/tomato_ripe')\n",
        "dir_path.mkdir(parents=True, exist_ok=True)"
      ],
      "execution_count": 0,
      "outputs": []
    },
    {
      "cell_type": "code",
      "metadata": {
        "id": "ve5dTvfP8Y40",
        "colab_type": "code",
        "colab": {
          "base_uri": "https://localhost:8080/",
          "height": 34
        },
        "outputId": "cf04db1b-6e26-49f5-ec33-28fc7b21a10b"
      },
      "source": [
        "collections.Counter(p.suffix for p in dir_path.glob('*.*'))"
      ],
      "execution_count": 39,
      "outputs": [
        {
          "output_type": "execute_result",
          "data": {
            "text/plain": [
              "Counter({'.jpeg': 3, '.jpg': 134, '.png': 6})"
            ]
          },
          "metadata": {
            "tags": []
          },
          "execution_count": 39
        }
      ]
    },
    {
      "cell_type": "code",
      "metadata": {
        "id": "K6qWDkIxnmad",
        "colab_type": "code",
        "colab": {}
      },
      "source": [
        "# Setup the crawler - Google images\n",
        "google_crawler = GoogleImageCrawler(downloader_cls=MyImageDownloader, storage={'root_dir': dir_path})\n",
        "filters = dict(type='photo', color='color')\n",
        "\n",
        "# A prefix, so I dont overwrite images already in the folder\n",
        "google_crawler.downloader.filename_prefix = 'july18_'\n",
        "google_crawler.crawl(keyword='ripe tomato', filters=filters, max_num=200, min_size=(200,200))"
      ],
      "execution_count": 0,
      "outputs": []
    },
    {
      "cell_type": "code",
      "metadata": {
        "id": "gdKagSao715F",
        "colab_type": "code",
        "colab": {}
      },
      "source": [
        "# Setup the crawler - Bing\n",
        "bing_crawler = BingImageCrawler(downloader_cls=MyImageDownloader, downloader_threads=4,\n",
        "                                storage={'root_dir': dir_path})\n",
        "filters = dict(type='photo', color='color')\n",
        "\n",
        "bing_crawler.downloader.filename_prefix = 'july18_'\n",
        "bing_crawler.crawl(keyword='ripe tomato', filters=filters, offset=0, max_num=200)"
      ],
      "execution_count": 0,
      "outputs": []
    },
    {
      "cell_type": "code",
      "metadata": {
        "id": "2Q5ogpaO8W3F",
        "colab_type": "code",
        "colab": {
          "base_uri": "https://localhost:8080/",
          "height": 34
        },
        "outputId": "3ddb3407-83b6-45e6-a7b0-0d85f1301823"
      },
      "source": [
        "collections.Counter(p.suffix for p in dir_path.glob('*.*'))"
      ],
      "execution_count": 43,
      "outputs": [
        {
          "output_type": "execute_result",
          "data": {
            "text/plain": [
              "Counter({'.jpeg': 3, '.jpg': 226, '.png': 4})"
            ]
          },
          "metadata": {
            "tags": []
          },
          "execution_count": 43
        }
      ]
    },
    {
      "cell_type": "markdown",
      "metadata": {
        "id": "jbR3989EeMf8",
        "colab_type": "text"
      },
      "source": [
        "### Rotten Tomatoes"
      ]
    },
    {
      "cell_type": "code",
      "metadata": {
        "id": "ma8Ip8v3YwS8",
        "colab_type": "code",
        "colab": {}
      },
      "source": [
        "# Setup the path where the images are going to be stored\n",
        "dir_path = Path('gdrive/My Drive/datasets/tomato_classification/tomato_rotten')\n",
        "dir_path.mkdir(parents=True, exist_ok=True)"
      ],
      "execution_count": 0,
      "outputs": []
    },
    {
      "cell_type": "code",
      "metadata": {
        "id": "DdxAVPasODB1",
        "colab_type": "code",
        "colab": {
          "base_uri": "https://localhost:8080/",
          "height": 34
        },
        "outputId": "49a13ed2-2786-4270-e88d-e54b72b1fc31"
      },
      "source": [
        "collections.Counter(p.suffix for p in dir_path.glob('*.*'))"
      ],
      "execution_count": 45,
      "outputs": [
        {
          "output_type": "execute_result",
          "data": {
            "text/plain": [
              "Counter({'.jpeg': 3, '.jpg': 103, '.png': 2})"
            ]
          },
          "metadata": {
            "tags": []
          },
          "execution_count": 45
        }
      ]
    },
    {
      "cell_type": "code",
      "metadata": {
        "id": "uv8Bm6exXFJR",
        "colab_type": "code",
        "colab": {}
      },
      "source": [
        "#Crawl\n",
        "google_crawler = GoogleImageCrawler(downloader_cls=MyImageDownloader, storage={'root_dir': dir_path})\n",
        "filters = dict(type='photo', color='color')\n",
        "\n",
        "# A prefix, so I dont overwrite images already in the folder\n",
        "google_crawler.downloader.filename_prefix = 'july18_'\n",
        "google_crawler.crawl(keyword='rotten tomato', filters=filters, max_num=200, min_size=(200,200))"
      ],
      "execution_count": 0,
      "outputs": []
    },
    {
      "cell_type": "code",
      "metadata": {
        "id": "Q_d7TxikN6dy",
        "colab_type": "code",
        "colab": {}
      },
      "source": [
        "# Setup the crawler - Bing\n",
        "bing_crawler = BingImageCrawler(downloader_cls=MyImageDownloader, downloader_threads=4,\n",
        "                                storage={'root_dir': dir_path})\n",
        "filters = dict(type='photo', color='color')\n",
        "\n",
        "bing_crawler.downloader.filename_prefix = 'july18_'\n",
        "bing_crawler.crawl(keyword='spoilt tomato', filters=filters, offset=0, max_num=200)"
      ],
      "execution_count": 0,
      "outputs": []
    },
    {
      "cell_type": "code",
      "metadata": {
        "id": "R5W7GEJiOGtE",
        "colab_type": "code",
        "colab": {
          "base_uri": "https://localhost:8080/",
          "height": 34
        },
        "outputId": "52633386-8b6b-4f7b-c087-a4db3b1de7c4"
      },
      "source": [
        "collections.Counter(p.suffix for p in dir_path.glob('*.*'))"
      ],
      "execution_count": 48,
      "outputs": [
        {
          "output_type": "execute_result",
          "data": {
            "text/plain": [
              "Counter({'.jpeg': 3, '.jpg': 201, '.png': 2})"
            ]
          },
          "metadata": {
            "tags": []
          },
          "execution_count": 48
        }
      ]
    },
    {
      "cell_type": "markdown",
      "metadata": {
        "id": "3FXjWOSVePu-",
        "colab_type": "text"
      },
      "source": [
        "### Unripe tomatoes\n",
        "(raw doesn't work - its not the opposite of ripe)"
      ]
    },
    {
      "cell_type": "code",
      "metadata": {
        "id": "goUijgNmcA57",
        "colab_type": "code",
        "colab": {}
      },
      "source": [
        "# Setup the path where the images are going to be stored\n",
        "dir_path = Path('gdrive/My Drive/datasets/tomato_classification/tomato_unripe')\n",
        "dir_path.mkdir(parents=True, exist_ok=True)"
      ],
      "execution_count": 0,
      "outputs": []
    },
    {
      "cell_type": "code",
      "metadata": {
        "id": "g40hHgY5Qqj-",
        "colab_type": "code",
        "colab": {
          "base_uri": "https://localhost:8080/",
          "height": 34
        },
        "outputId": "f5a2c7c6-9c49-446b-ee09-058589a2edf7"
      },
      "source": [
        "collections.Counter(p.suffix for p in dir_path.glob('*.*'))"
      ],
      "execution_count": 50,
      "outputs": [
        {
          "output_type": "execute_result",
          "data": {
            "text/plain": [
              "Counter({'.JPG': 1, '.jpeg': 6, '.jpg': 131, '.png': 4})"
            ]
          },
          "metadata": {
            "tags": []
          },
          "execution_count": 50
        }
      ]
    },
    {
      "cell_type": "code",
      "metadata": {
        "id": "cgvN2013cvnz",
        "colab_type": "code",
        "colab": {}
      },
      "source": [
        "#Crawl\n",
        "google_crawler = GoogleImageCrawler(downloader_cls=MyImageDownloader, storage={'root_dir': dir_path})\n",
        "filters = dict(type='photo', color='color')\n",
        "\n",
        "# A prefix, so I dont overwrite images already in the folder\n",
        "google_crawler.downloader.filename_prefix = 'july18_'\n",
        "google_crawler.crawl(keyword='unripe tomatoes', filters=filters, max_num=200, min_size=(200,200))"
      ],
      "execution_count": 0,
      "outputs": []
    },
    {
      "cell_type": "code",
      "metadata": {
        "id": "FyvaiWFTQzrT",
        "colab_type": "code",
        "colab": {}
      },
      "source": [
        "# Setup the crawler - Bing\n",
        "bing_crawler = BingImageCrawler(downloader_cls=MyImageDownloader, downloader_threads=4,\n",
        "                                storage={'root_dir': dir_path})\n",
        "filters = dict(type='photo', color='color')\n",
        "\n",
        "bing_crawler.downloader.filename_prefix = 'july18_'\n",
        "bing_crawler.crawl(keyword='unripe tomato', filters=filters, offset=0, max_num=200)"
      ],
      "execution_count": 0,
      "outputs": []
    },
    {
      "cell_type": "code",
      "metadata": {
        "id": "4O6AZaAOR44d",
        "colab_type": "code",
        "colab": {
          "base_uri": "https://localhost:8080/",
          "height": 34
        },
        "outputId": "6b68c04b-acd4-4131-8730-a9a76effe5f7"
      },
      "source": [
        "collections.Counter(p.suffix for p in dir_path.glob('*.*'))"
      ],
      "execution_count": 53,
      "outputs": [
        {
          "output_type": "execute_result",
          "data": {
            "text/plain": [
              "Counter({'.JPG': 1, '.jpeg': 6, '.jpg': 235, '.png': 2})"
            ]
          },
          "metadata": {
            "tags": []
          },
          "execution_count": 53
        }
      ]
    },
    {
      "cell_type": "markdown",
      "metadata": {
        "id": "MDZPO_CVfvUU",
        "colab_type": "text"
      },
      "source": [
        "### Not tomatoes\n",
        "This is a catch all category - by definition hard to define. Including here: apples, red potatoes, onions, green jaamun, red berries, olives, peaches"
      ]
    },
    {
      "cell_type": "code",
      "metadata": {
        "id": "2Vs_vtE1eroh",
        "colab_type": "code",
        "colab": {}
      },
      "source": [
        "# Setup the path where the images are going to be stored\n",
        "dir_path = Path('gdrive/My Drive/datasets/tomato_classification/not_tomato')\n",
        "dir_path.mkdir(parents=True, exist_ok=True)"
      ],
      "execution_count": 0,
      "outputs": []
    },
    {
      "cell_type": "code",
      "metadata": {
        "id": "WvEvu_qXaCWU",
        "colab_type": "code",
        "colab": {
          "base_uri": "https://localhost:8080/",
          "height": 119
        },
        "outputId": "7f3bed0b-21b8-4c7a-98c6-6458dc0378e5"
      },
      "source": [
        "collections.Counter(p.suffix for p in dir_path.glob('*.*'))"
      ],
      "execution_count": 55,
      "outputs": [
        {
          "output_type": "execute_result",
          "data": {
            "text/plain": [
              "Counter({'.JPG': 1,\n",
              "         '.cms': 1,\n",
              "         '.jpeg': 5,\n",
              "         '.jpg': 198,\n",
              "         '.png': 13,\n",
              "         '.webp': 1})"
            ]
          },
          "metadata": {
            "tags": []
          },
          "execution_count": 55
        }
      ]
    },
    {
      "cell_type": "code",
      "metadata": {
        "id": "Hs1UAiingE5u",
        "colab_type": "code",
        "colab": {
          "base_uri": "https://localhost:8080/",
          "height": 564
        },
        "outputId": "6305ebcd-b515-4287-da32-4f595409bbe6"
      },
      "source": [
        "# Crawl\n",
        "google_crawler = GoogleImageCrawler(downloader_cls=MyImageDownloader, storage={'root_dir': dir_path})\n",
        "filters = dict(type='photo', color='color')\n",
        "\n",
        "google_crawler.downloader.filename_prefix = 'strawberry'\n",
        "google_crawler.crawl(keyword='strawberry', filters=filters, max_num=20, min_size=(200,200))\n",
        "\n",
        "google_crawler.downloader.filename_prefix = 'red_apple'\n",
        "google_crawler.crawl(keyword='red apples', filters=filters, max_num=20, min_size=(200,200))\n",
        "\n",
        "google_crawler.downloader.filename_prefix = 'green_apple'\n",
        "google_crawler.crawl(keyword='green apples', filters=filters, max_num=20, min_size=(200,200))\n",
        "\n",
        "google_crawler.downloader.filename_prefix = 'red_potato'\n",
        "google_crawler.crawl(keyword='red potatoes', filters=filters, max_num=20, min_size=(200,200))\n",
        "\n",
        "google_crawler.downloader.filename_prefix = 'onion'\n",
        "google_crawler.crawl(keyword='onions', filters=filters, max_num=20, min_size=(200,200))\n",
        "\n",
        "google_crawler.downloader.filename_prefix = 'red_berries'\n",
        "google_crawler.crawl(keyword='red berries', filters=filters, max_num=20, min_size=(200,200))\n",
        "\n",
        "google_crawler.downloader.filename_prefix = 'jamun_green'\n",
        "google_crawler.crawl(keyword='jamun green', filters=filters, max_num=20, min_size=(200,200))\n",
        "\n",
        "google_crawler.downloader.filename_prefix = 'peaches'\n",
        "google_crawler.crawl(keyword='peaches', filters=filters, max_num=20, min_size=(200,200))\n",
        "\n",
        "google_crawler.downloader.filename_prefix = 'olives'\n",
        "google_crawler.crawl(keyword='olives', filters=filters, max_num=20, min_size=(200,200))\n",
        "\n",
        "google_crawler.downloader.filename_prefix = 'red_plants'\n",
        "google_crawler.crawl(keyword='red plants', filters=filters, max_num=20, min_size=(200,200))\n",
        "\n",
        "google_crawler.downloader.filename_prefix = 'green_plants'\n",
        "google_crawler.crawl(keyword='green plants', filters=filters, max_num=20, min_size=(200,200))\n",
        "\n",
        "google_crawler.downloader.filename_prefix = 'red_flowers'\n",
        "google_crawler.crawl(keyword='red flowers', filters=filters, max_num=20, min_size=(200,200))"
      ],
      "execution_count": 56,
      "outputs": [
        {
          "output_type": "stream",
          "text": [
            "2019-07-18 18:47:56,048 - INFO - icrawler.crawler - start crawling...\n",
            "2019-07-18 18:47:56,049 - INFO - icrawler.crawler - starting 1 feeder threads...\n",
            "2019-07-18 18:47:56,054 - INFO - feeder - thread feeder-001 exit\n",
            "2019-07-18 18:47:56,054 - INFO - icrawler.crawler - starting 1 parser threads...\n",
            "2019-07-18 18:47:56,065 - INFO - icrawler.crawler - starting 1 downloader threads...\n",
            "2019-07-18 18:47:56,641 - INFO - parser - parsing result page https://www.google.com/search?q=strawberry&ijn=0&start=0&tbs=itp%3Aphoto%2Cic%3Acolor&tbm=isch\n",
            "2019-07-18 18:47:57,213 - INFO - downloader - image #1\thttps://upload.wikimedia.org/wikipedia/commons/thumb/2/29/PerfectStrawberry.jpg/220px-PerfectStrawberry.jpg\n",
            "2019-07-18 18:47:59,968 - INFO - downloader - image #2\thttps://www.aces.edu/wp-content/uploads/2019/04/strawberry-.jpg\n",
            "2019-07-18 18:48:00,121 - INFO - downloader - image #3\thttps://thumbs-prod.si-cdn.com/k5ZCVtFyySLEDAHe7FeDQMBfQ-w=/800x600/filters:no_upscale()/https://public-media.si-cdn.com/filer/39/3c/393c51d9-ce11-49ce-9d41-5ef599dfabea/bn8e34.jpg\n",
            "2019-07-18 18:48:00,459 - INFO - downloader - image #4\thttps://snaped.fns.usda.gov/sites/default/files/styles/crop_ratio_7_5/public/seasonal-produce/2018-05/strawberries.jpg?itok=WXVLbw1Q\n",
            "2019-07-18 18:48:01,468 - INFO - downloader - image #5\thttps://www.almanac.com/sites/default/files/styles/primary_image_in_article/public/image_nodes/strawberries-1.jpg?itok=M1rx-t2P\n",
            "2019-07-18 18:48:01,501 - INFO - downloader - image #6\thttps://i.kinja-img.com/gawker-media/image/upload/s--MNEJonW5--/c_scale,f_auto,fl_progressive,q_80,w_800/xicsb4sryd8dydbqm7yj.jpg\n",
            "2019-07-18 18:48:01,796 - INFO - downloader - image #7\thttps://www.thermofisher.com/blog/wp-content/uploads/sites/5/2015/08/single_strawberry__isolated_on_a_white_background.jpg\n",
            "2019-07-18 18:48:02,116 - INFO - downloader - image #8\thttps://www.besthealthmag.ca/wp-content/uploads/sites/16/2018/12/benefits-of-strawberries-strawberry-benefits-7.jpg\n",
            "2019-07-18 18:48:02,221 - INFO - downloader - image #9\thttps://media.daysoftheyear.com/20171223115009/strawberry-day1.jpg\n",
            "2019-07-18 18:48:03,117 - INFO - downloader - image #10\thttps://cdn.apartmenttherapy.info/image/fetch/f_jpg,q_auto:eco,c_fill,g_auto,w_1500,ar_4:3/https://storage.googleapis.com/gen-atmedia/3/2015/02/22ceed7e5a9a4ce2389ffc6d1d23cf20d21b54df.jpeg\n",
            "2019-07-18 18:48:03,146 - INFO - downloader - image #11\thttps://i0.wp.com/images-prod.healthline.com/hlcmsresource/images/AN_images/strawberries-1296x728-feature.jpg?w=1155&h=1528\n",
            "2019-07-18 18:48:03,402 - INFO - downloader - image #12\thttps://media.eggs.ca/assets/RecipePhotos/_resampled/FillWyIxMjgwIiwiNzIwIl0/canada-day-pops-024.jpg\n",
            "2019-07-18 18:48:04,985 - INFO - downloader - image #13\thttps://www.yogurt-land.com/assets/593.png\n",
            "2019-07-18 18:48:05,683 - INFO - downloader - image #14\thttps://tastesbetterfromscratch.com/wp-content/uploads/2013/05/Chocolate-Covered-Strawberries-9-500x500.jpg\n",
            "2019-07-18 18:48:06,903 - INFO - downloader - image #15\thttps://greenblender.com/smoothies/wp-content/uploads/2015/12/smoothies-with-strawberries-by-Green-Blender-960x540.jpg\n",
            "2019-07-18 18:48:07,131 - INFO - downloader - image #16\thttps://images-gmi-pmc.edge-generalmills.com/37fce129-fe55-4c40-b20f-1116c414ace6.jpg\n",
            "2019-07-18 18:48:08,870 - INFO - downloader - image #17\thttps://s3-us-west-1.amazonaws.com/contentlab.studiod/getty/2e5ec7fdc4684518ac98c487bf836058\n",
            "2019-07-18 18:48:10,479 - INFO - downloader - image #18\thttps://westmorelandberryfarm.com/wp-content/uploads/2016/04/strawberry-header.png\n",
            "2019-07-18 18:48:12,541 - INFO - downloader - image #19\thttps://www.thompson-morgan.com/product_images/100/zoom/z-STRA-T72197P-A_h.jpg\n",
            "2019-07-18 18:48:13,841 - INFO - downloader - image #20\thttps://natashaskitchen.com/wp-content/uploads/2017/07/Easy-Strawberry-Cake-2.jpg\n",
            "2019-07-18 18:48:14,291 - INFO - downloader - downloaded images reach max num, thread downloader-001 is ready to exit\n",
            "2019-07-18 18:48:14,292 - INFO - downloader - thread downloader-001 exit\n",
            "2019-07-18 18:48:14,551 - INFO - parser - downloaded image reached max num, thread parser-001 is ready to exit\n",
            "2019-07-18 18:48:14,553 - INFO - parser - thread parser-001 exit\n",
            "2019-07-18 18:48:15,092 - INFO - icrawler.crawler - Crawling task done!\n"
          ],
          "name": "stderr"
        }
      ]
    },
    {
      "cell_type": "code",
      "metadata": {
        "id": "Ia3g43Y2hDDw",
        "colab_type": "code",
        "colab": {}
      },
      "source": [
        ""
      ],
      "execution_count": 0,
      "outputs": []
    }
  ]
}